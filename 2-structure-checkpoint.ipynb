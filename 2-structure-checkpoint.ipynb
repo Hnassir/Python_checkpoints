{
 "cells": [
  {
   "cell_type": "markdown",
   "id": "ea05b63f",
   "metadata": {},
   "source": [
    "### *Question 1  :*\n",
    " \n",
    "Write a Python program that multiplies all the items in a list.\n",
    "Sample list= [2, 3, 6]\n",
    "Result = 36\n"
   ]
  },
  {
   "cell_type": "code",
   "execution_count": 5,
   "id": "d389f3ea",
   "metadata": {},
   "outputs": [
    {
     "name": "stdout",
     "output_type": "stream",
     "text": [
      "the result of multipling the items in the following list [3, 2, 6] \n",
      "is : 36\n"
     ]
    }
   ],
   "source": [
    "value_list=[3,2,6]\n",
    "oper_mul=1\n",
    "\n",
    "for i in value_list:\n",
    "    oper_mul*=i\n",
    "\n",
    "print(\"the result of multipling the items in the following list\",value_list,\"\\nis :\",oper_mul)"
   ]
  },
  {
   "cell_type": "markdown",
   "id": "e3832ffb",
   "metadata": {},
   "source": [
    "### *Question 2*\n",
    "\n",
    "Write a Python program to get a list, sorted in increasing order by the last element in each tuple from a given list of non-empty tuples.\n",
    "\n",
    "Sample List : [(2, 5), (1, 2), (4, 4), (2, 3), (2, 1)]\n",
    "\n",
    "Expected result : [(2, 1), (1, 2), (2, 3), (4, 4), (2, 5)]\n",
    "\n",
    "Hint: You can use the sort function.\n"
   ]
  },
  {
   "cell_type": "code",
   "execution_count": 2,
   "id": "241461a3",
   "metadata": {},
   "outputs": [
    {
     "name": "stdout",
     "output_type": "stream",
     "text": [
      "here is the list you entered : [1, 2, 3]\n",
      "here is the list before sorting :[(1, 2), (3, 0)]\n",
      "here is the list sorted : [(3, 0), (1, 2)]\n"
     ]
    }
   ],
   "source": [
    "list_t=input('enter a list of numbers: ')\n",
    "tuple_list=[]\n",
    "\n",
    "#to split the input\n",
    "if ',' in list_t:\n",
    "    list_t=list_t.split(',')\n",
    "    for i in range(len(list_t)):\n",
    "        list_t[i]=int(list_t[i])\n",
    "elif ' ' in list_t:\n",
    "    list_t=list_t.split()\n",
    "    for i in range(len(list_t)):\n",
    "        list_t[i]=int(list_t[i])\n",
    "\n",
    "#to insert values in tuple format:\n",
    "for i in range (0,len(list_t),2):\n",
    "    if i+1==len(list_t):\n",
    "        tuple_list.insert(i,(int(list_t[i]),0))\n",
    "        break\n",
    "    tuple_list.insert(i,(list_t[i],list_t[i+1]))\n",
    "\n",
    "print(f\"here is the list you entered : {list_t}\")\n",
    "\n",
    "print(f\"here is the list before sorting :{tuple_list}\")\n",
    "\n",
    "tuple_list.sort(key=lambda l_tuple:l_tuple[1])\n",
    "\n",
    "print(f\"here is the list sorted : {tuple_list}\")"
   ]
  },
  {
   "cell_type": "markdown",
   "id": "a538974a",
   "metadata": {},
   "source": [
    "### *Question 3*\n",
    "\n",
    "Write a Python program that combines two dictionaries by adding values for common keys.\n",
    "\n",
    "d1 = {'a': 100, 'b': 200, 'c':300}\n",
    "\n",
    "d2 = {'a': 300, 'b': 200, 'd':400}\n",
    "\n",
    "Expected result: {'a': 400, 'b': 400, 'd': 400, 'c': 300}"
   ]
  },
  {
   "cell_type": "code",
   "execution_count": 1,
   "id": "3ae938a8",
   "metadata": {},
   "outputs": [
    {
     "name": "stdout",
     "output_type": "stream",
     "text": [
      "here is the final dictionary after combination :\n",
      "{'a': 400, 'b': 400, 'c': 300, 'd': 400}\n"
     ]
    }
   ],
   "source": [
    "d1 = {'a': 100, 'b': 200, 'c':300}\n",
    "d2 = {'a': 300, 'b': 200, 'd':400}\n",
    "d3=val={}\n",
    "\n",
    "#a loop to add values of same keys\n",
    "for keys1,values1 in d1.items() :\n",
    "    for keys2,values2 in d2.items():\n",
    "        if keys1==keys2:\n",
    "            d3[keys1]=values1+values2\n",
    "            break\n",
    "    else :\n",
    "        d3[keys1]=values1\n",
    "\n",
    "#in case some keys of the second dictionary are left behind\n",
    "x=list(set(d2.keys()).difference(set(d3.keys())))\n",
    "x.sort()\n",
    "\n",
    "#statements to add what is left\n",
    "for i in x :\n",
    "    val[i]=d2[i]\n",
    "d3.update(val)\n",
    "\n",
    "print(f\"here is the final dictionary after combination :\\n{d3}\")"
   ]
  },
  {
   "cell_type": "markdown",
   "id": "47fe19f7",
   "metadata": {},
   "source": [
    "### *Question 4*\n",
    "\n",
    "With a given integral number n, write a program to generate a dictionary that contains (i, i*i) so that is an integral number between 1 and n (both included).\n",
    "\n",
    "Then the program should print the dictionary.\n",
    "\n",
    "Suppose the following input is supplied to the program: 8.\n",
    "\n",
    "Then, the output should be: {1: 1, 2: 4, 3: 9, 4: 16, 5: 25, 6: 36, 7: 49, 8: 64}"
   ]
  },
  {
   "cell_type": "code",
   "execution_count": 1,
   "id": "4e8a3e3a",
   "metadata": {},
   "outputs": [
    {
     "name": "stdout",
     "output_type": "stream",
     "text": [
      "here is the dictionary :\n",
      "{1: 1, 2: 4, 3: 9, 4: 16, 5: 25, 6: 36, 7: 49, 8: 64, 9: 81, 10: 100}\n"
     ]
    }
   ],
   "source": [
    "number=int(input(\"enter a integral number please :\"))\n",
    "dict_mul={}\n",
    "\n",
    "for i in range(1,number+1):\n",
    "    dict_mul[i]=i*i\n",
    "\n",
    "print(f\"here is the dictionary :\\n{dict_mul}\")"
   ]
  },
  {
   "cell_type": "markdown",
   "id": "b79dc71c",
   "metadata": {},
   "source": [
    "### *Question 5*\n",
    "\n",
    "Write a program to sort a tuple by its float element.\n",
    "\n",
    "For example: list= [('item1', '12.20'), ('item2', '15.10'), ('item3', '24.5')]\n",
    "\n",
    "Expected result: [('item3', '24.5'), ('item2', '15.10'), ('item1', '12.20')]"
   ]
  },
  {
   "cell_type": "code",
   "execution_count": 7,
   "id": "31b33e9f",
   "metadata": {},
   "outputs": [
    {
     "name": "stdout",
     "output_type": "stream",
     "text": [
      "[('peache', '24.5'), ('banana', '15.10'), ('apple', '12.20')]\n"
     ]
    }
   ],
   "source": [
    "l_tuple= [('apple', '12.20'), ('banana', '15.10'), ('peache', '24.5')]\n",
    "\n",
    "l_tuple.sort(key=lambda i:i[1],reverse=True)\n",
    "print(l_tuple)"
   ]
  },
  {
   "cell_type": "markdown",
   "id": "bda82522",
   "metadata": {},
   "source": [
    "### *Question 6*\n",
    "\n",
    "Write a Python program to create a set.\n",
    "\n",
    "Examples : {0, 1, 2, 3, 4}\n",
    "\n",
    "Write a Python program to iteration over sets.\n",
    "\n",
    "Write a Python program to add members in a set and to remove items from a given set."
   ]
  },
  {
   "cell_type": "code",
   "execution_count": 2,
   "id": "09f58e23",
   "metadata": {},
   "outputs": [
    {
     "name": "stdout",
     "output_type": "stream",
     "text": [
      "{1, 2, 3}\n",
      "1\n",
      "2\n",
      "3\n"
     ]
    }
   ],
   "source": [
    "#program to create à set :\n",
    "set_val=input(\"enter a set of numbers please:\")\n",
    "\n",
    "if ',' in set_val:\n",
    "    set_val=set_val.split(',')\n",
    "    for i in range(len(set_val)):\n",
    "        set_val[i]=int(set_val[i])\n",
    "elif ' ' in set_val:\n",
    "    set_val=set_val.split()\n",
    "    for i in range(len(set_val)):\n",
    "        set_val[i]=int(set_val[i])\n",
    "\n",
    "set_val=set(set_val)\n",
    "print(set_val)\n",
    "\n",
    "#program to iteration over sets\n",
    "for i in set_val:\n",
    "    print(i)"
   ]
  },
  {
   "cell_type": "code",
   "execution_count": 8,
   "id": "e3d3ab4f",
   "metadata": {},
   "outputs": [
    {
     "name": "stdout",
     "output_type": "stream",
     "text": [
      "{1, 2, 3, 40, 10}\n",
      "{1, 3, 40, 10}\n",
      "{40, 10}\n"
     ]
    }
   ],
   "source": [
    "#program to add members in a set and to remove items from a given set\n",
    "new_set=input(\"please enter a set :\")\n",
    "set_val={1,2,3}\n",
    "var=[]\n",
    "\n",
    "\n",
    "if ',' in new_set:\n",
    "    new_set=new_set.split(',')\n",
    "    for i in range(len(new_set)):\n",
    "        new_set[i]=int(new_set[i])\n",
    "    new_set=set(new_set)\n",
    "elif ' ' in new_set:\n",
    "    new_set=new_set.split()\n",
    "    for i in range(len(new_set)):\n",
    "        new_set[i]=int(new_set[i])\n",
    "    new_set=set(new_set)\n",
    "else :\n",
    "    var.insert(0,int(new_set))\n",
    "    new_set=set(var)\n",
    "\n",
    "#adding members defined beforehand to the set\n",
    "new_set.update(set_val)\n",
    "print(new_set)\n",
    "\n",
    "#removing items from the set\n",
    "new_set.discard(2) #if we have one value to remove\n",
    "print(new_set)\n",
    "\n",
    "print(new_set.difference(set_val))#in case we have more values to remove from the set"
   ]
  }
 ],
 "metadata": {
  "kernelspec": {
   "display_name": "Python 3",
   "language": "python",
   "name": "python3"
  },
  "language_info": {
   "codemirror_mode": {
    "name": "ipython",
    "version": 3
   },
   "file_extension": ".py",
   "mimetype": "text/x-python",
   "name": "python",
   "nbconvert_exporter": "python",
   "pygments_lexer": "ipython3",
   "version": "3.13.7"
  }
 },
 "nbformat": 4,
 "nbformat_minor": 5
}
