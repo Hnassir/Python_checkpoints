{
 "cells": [
  {
   "cell_type": "markdown",
   "id": "2a277d67",
   "metadata": {},
   "source": [
    "## **fisrst modele without customization**"
   ]
  },
  {
   "cell_type": "code",
   "execution_count": null,
   "id": "ab25d100",
   "metadata": {},
   "outputs": [
    {
     "name": "stdout",
     "output_type": "stream",
     "text": [
      "Welcome to Guess the Number game !\n",
      "\n",
      "I'm thinking of a number between 1 and 100. can you guess What it is ?\n",
      "Your guess is too low. Guess again.\n",
      "Your guess is too low. Guess again.\n",
      "Your guess is too high. Guess again.\n",
      "Your guess is too low. Guess again.\n",
      "Your guess is too low. Guess again.\n",
      "Your guess is too high. Guess again.\n",
      "Your guess is too high. Guess again.\n",
      "Congratulations! You guessed the number correctly!\n"
     ]
    }
   ],
   "source": [
    "import random\n",
    "i=random.randint(1,100)\n",
    "result=False\n",
    "\n",
    "\n",
    "print('Welcome to Guess the Number game !\\n')\n",
    "print(\"I'm thinking of a number between 1 and 100. can you guess What it is ? \\n\")\n",
    "\n",
    "\n",
    "while result == False :\n",
    " \n",
    " number=int(input(\"Enter your guess :\"))\n",
    "\n",
    " if number==i :\n",
    "        print(\"\\nCongratulations! You guessed the number correctly!\")\n",
    "        result=True\n",
    "    \n",
    " elif number> i:\n",
    "        print(\"Your guess is too high. Guess again.\")\n",
    "    \n",
    " else :\n",
    "        print(\"Your guess is too low. Guess again.\")\n",
    "         "
   ]
  },
  {
   "cell_type": "markdown",
   "id": "bb47f0f8",
   "metadata": {},
   "source": [
    "## **customized version of the guess program**"
   ]
  },
  {
   "cell_type": "code",
   "execution_count": null,
   "id": "8cc4a1c2",
   "metadata": {},
   "outputs": [
    {
     "name": "stdout",
     "output_type": "stream",
     "text": [
      "Welcome to Guess the Number game !\n",
      "\n",
      "I'm thinking of a number between 1 and 100. can you guess What it is ?\n",
      "Your guess is too low. Guess again.\n",
      "Your guess is too low. Guess again.\n",
      "Oops, you ran out of chances.\n"
     ]
    }
   ],
   "source": [
    "import random\n",
    "i=random.randint(1,100)\n",
    "result=False\n",
    "y=0\n",
    "\n",
    "print('Welcome to Guess the Number game !\\n')\n",
    "\n",
    "guess=int(input(\"Please choose the number of iterations guess you want take : [2,5,8,10]\"))\n",
    "\n",
    "print(\"I'm thinking of a number between 1 and 100. can you guess What it is ?\")\n",
    "\n",
    "while result == False :\n",
    "       for y in range(guess) :\n",
    "          number=int(input(\"Enter your guess :\"))\n",
    "\n",
    "          if number==i :\n",
    "              print(\"\\nCongratulations! You guessed the number correctly!\")\n",
    "              result=True\n",
    "              break\n",
    "              \n",
    "          elif number> i:\n",
    "              print(\"Your guess is too high. Guess again.\")\n",
    "              \n",
    "          else :\n",
    "              print(\"Your guess is too low. Guess again.\")\n",
    "       if y==(guess-1) :\n",
    "        print(\"\\nOops, you ran out of chances.\")\n",
    "        break\n",
    "         "
   ]
  }
 ],
 "metadata": {
  "kernelspec": {
   "display_name": "Python 3",
   "language": "python",
   "name": "python3"
  },
  "language_info": {
   "codemirror_mode": {
    "name": "ipython",
    "version": 3
   },
   "file_extension": ".py",
   "mimetype": "text/x-python",
   "name": "python",
   "nbconvert_exporter": "python",
   "pygments_lexer": "ipython3",
   "version": "3.13.7"
  }
 },
 "nbformat": 4,
 "nbformat_minor": 5
}
