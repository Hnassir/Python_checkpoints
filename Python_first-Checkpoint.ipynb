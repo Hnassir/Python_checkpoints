{
 "cells": [
  {
   "cell_type": "markdown",
   "id": "2a277d67",
   "metadata": {},
   "source": [
    "## **first modele without customization**"
   ]
  },
  {
   "cell_type": "code",
   "execution_count": 1,
   "id": "ab25d100",
   "metadata": {},
   "outputs": [
    {
     "name": "stdout",
     "output_type": "stream",
     "text": [
      "Welcome to Guess the Number game !\n",
      "\n",
      "I'm thinking of a number between 1 and 100. can you guess What it is ? \n",
      "\n",
      "Your guess is too high. Guess again.\n",
      "Your guess is too high. Guess again.\n",
      "Your guess is too high. Guess again.\n",
      "Your guess is too high. Guess again.\n",
      "Your guess is too low. Guess again.\n",
      "Your guess is too high. Guess again.\n",
      "Your guess is too low. Guess again.\n",
      "Your guess is too high. Guess again.\n",
      "\n",
      "Congratulations! You guessed the number correctly!\n"
     ]
    }
   ],
   "source": [
    "import random\n",
    "i=random.randint(1,100)\n",
    "result=False\n",
    "\n",
    "\n",
    "print('Welcome to Guess the Number game !\\n')\n",
    "print(\"I'm thinking of a number between 1 and 100. can you guess What it is ? \\n\")\n",
    "\n",
    "\n",
    "while result == False :\n",
    " \n",
    " number=int(input(\"Enter your guess :\"))\n",
    "\n",
    " if number==i :\n",
    "        print(\"\\nCongratulations! You guessed the number correctly!\")\n",
    "        result=True\n",
    "    \n",
    " elif number> i:\n",
    "        print(\"Your guess is too high. Guess again.\")\n",
    "    \n",
    " else :\n",
    "        print(\"Your guess is too low. Guess again.\")\n",
    "         "
   ]
  },
  {
   "cell_type": "markdown",
   "id": "bb47f0f8",
   "metadata": {},
   "source": [
    "## **customized version of the guess program**"
   ]
  },
  {
   "cell_type": "code",
   "execution_count": null,
   "id": "8cc4a1c2",
   "metadata": {},
   "outputs": [
    {
     "name": "stdout",
     "output_type": "stream",
     "text": [
      "Welcome to Guess the Number game !\n",
      "\n",
      "I'm thinking of a number between 1 and 100. can you guess What it is ?\n",
      "Your guess is too low. Guess again.\n",
      "Your guess is too high. Guess again.\n",
      "\n",
      "Oops, you ran out of chances.\n"
     ]
    }
   ],
   "source": [
    "import random\n",
    "i=random.randint(1,100)\n",
    "result = False\n",
    "y=1\n",
    "\n",
    "print('Welcome to Guess the Number game !\\n')\n",
    "   \n",
    "guess=int(input(\"Please choose the number of iterations guess you want take : [2,5,8,10]\"))\n",
    "\n",
    "print(\"I'm thinking of a number between 1 and 100. can you guess What it is ?\")\n",
    "\n",
    "while y <= guess :\n",
    "    y+=1 \n",
    "    number=int(input(\"Enter your guess :\"))\n",
    "    if number==i :\n",
    "        print(\"\\nCongratulations! You guessed the number correctly!\")\n",
    "        result=True\n",
    "        break\n",
    "    elif number> i:\n",
    "        print(\"Your guess is too high. Guess again.\")\n",
    "              \n",
    "    else :\n",
    "        print(\"Your guess is too low. Guess again.\")\n",
    "\n",
    "if not(result) :\n",
    "    print(\"\\nOops, you ran out of chances.\")         "
   ]
  },
  {
   "cell_type": "markdown",
   "id": "ca718872",
   "metadata": {},
   "source": [
    "## **second verson of customized guess program**"
   ]
  },
  {
   "cell_type": "code",
   "execution_count": null,
   "id": "e3fb88b7",
   "metadata": {},
   "outputs": [
    {
     "name": "stdout",
     "output_type": "stream",
     "text": [
      "Welcome to Guess the Number game !\n",
      "\n",
      "I'm thinking of a number between 1 and 100. can you guess What it is ?\n"
     ]
    },
    {
     "ename": "NameError",
     "evalue": "name 'y' is not defined",
     "output_type": "error",
     "traceback": [
      "\u001b[31m---------------------------------------------------------------------------\u001b[39m",
      "\u001b[31mNameError\u001b[39m                                 Traceback (most recent call last)",
      "\u001b[36mCell\u001b[39m\u001b[36m \u001b[39m\u001b[32mIn[1]\u001b[39m\u001b[32m, line 18\u001b[39m\n\u001b[32m     13\u001b[39m         check=\u001b[38;5;28;01mTrue\u001b[39;00m\n\u001b[32m     16\u001b[39m \u001b[38;5;28mprint\u001b[39m(\u001b[33m\"\u001b[39m\u001b[33mI\u001b[39m\u001b[33m'\u001b[39m\u001b[33mm thinking of a number between 1 and 100. can you guess What it is ?\u001b[39m\u001b[33m\"\u001b[39m)\n\u001b[32m---> \u001b[39m\u001b[32m18\u001b[39m \u001b[38;5;28;01mwhile\u001b[39;00m \u001b[43my\u001b[49m <= guess :\n\u001b[32m     19\u001b[39m     y+=\u001b[32m1\u001b[39m \n\u001b[32m     20\u001b[39m     number=\u001b[38;5;28mint\u001b[39m(\u001b[38;5;28minput\u001b[39m(\u001b[33m\"\u001b[39m\u001b[33mEnter your guess :\u001b[39m\u001b[33m\"\u001b[39m))\n",
      "\u001b[31mNameError\u001b[39m: name 'y' is not defined"
     ]
    }
   ],
   "source": [
    "import random\n",
    "i=random.randint(1,100)\n",
    "result=False\n",
    "check=False\n",
    "y=1\n",
    "\n",
    "print('Welcome to Guess the Number game !\\n')\n",
    "\n",
    "while check==False :\n",
    "    \n",
    "    guess=int(input(\"Please choose the number of iterations guess you want take : [2,5,8,10]\"))\n",
    "    if guess in [2,5,8,10] :\n",
    "        check=True\n",
    "\n",
    "\n",
    "print(\"I'm thinking of a number between 1 and 100. can you guess What it is ?\")\n",
    "\n",
    "while y <= guess :\n",
    "    y+=1 \n",
    "    number=int(input(\"Enter your guess :\"))\n",
    "    if number==i :\n",
    "        print(\"\\nCongratulations! You guessed the number correctly!\")\n",
    "        result=True\n",
    "        break\n",
    "    elif number> i:\n",
    "        print(\"Your guess is too high. Guess again.\")\n",
    "              \n",
    "    else :\n",
    "        print(\"Your guess is too low. Guess again.\")\n",
    "\n",
    "if not(result) :\n",
    "    print(\"\\nOops, you ran out of chances.\")         \n",
    "        "
   ]
  }
 ],
 "metadata": {
  "kernelspec": {
   "display_name": "Python 3",
   "language": "python",
   "name": "python3"
  },
  "language_info": {
   "codemirror_mode": {
    "name": "ipython",
    "version": 3
   },
   "file_extension": ".py",
   "mimetype": "text/x-python",
   "name": "python",
   "nbconvert_exporter": "python",
   "pygments_lexer": "ipython3",
   "version": "3.13.7"
  }
 },
 "nbformat": 4,
 "nbformat_minor": 5
}
