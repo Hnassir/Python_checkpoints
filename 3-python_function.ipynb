{
 "cells": [
  {
   "cell_type": "markdown",
   "id": "f05af778",
   "metadata": {},
   "source": [
    "# *Instructions*\n",
    " \n",
    "1.\tOpen a new Python file in your preferred code editor.\n",
    "2.\tDefine a function called \"calculator\" that takes two arguments, \"num1\" and \"num2\".\n",
    "3.\tWithin the function, prompt the user to enter an operator (+, -, *, /).\n",
    "4.\tUse conditional statements to determine which operation to perform based on the user's input.\n",
    "5.\tReturn the result of the operation.\n",
    "6.\tCall the function calculator with two numbers and print the result.\n",
    "7.\tHandle cases where the user inputs invalid operators or tries to divide by zero.\n",
    "\n",
    "*Note: *\n",
    "\n",
    "You may want to use a \"while\" loop to allow the user to roll the dice multiple times, or to add some messages to make the program more user-friendly.\n"
   ]
  },
  {
   "cell_type": "code",
   "execution_count": null,
   "id": "b47599c6",
   "metadata": {},
   "outputs": [],
   "source": [
    "#creating calculator function\n",
    "def calculator(num1,num2):\n",
    "    oper=input('enter the orepator (+,-,*,/) :')\n",
    "    if oper == '+':\n",
    "        return num1+num2\n",
    "    if oper == '-':\n",
    "        return num1-num2\n",
    "    if oper == '*':\n",
    "        return num1*num2\n",
    "    if oper == '/':\n",
    "        return num1/num2"
   ]
  },
  {
   "cell_type": "code",
   "execution_count": null,
   "id": "d0f9d25c",
   "metadata": {},
   "outputs": [
    {
     "name": "stdout",
     "output_type": "stream",
     "text": [
      "te result is  -20\n"
     ]
    }
   ],
   "source": [
    "#exploring the function\n",
    "a=int(input('enter first number:'))\n",
    "b=int(input('enter second number:'))\n",
    "\n",
    "result=calculator(a,b)\n",
    "print('the result is ',result)"
   ]
  },
  {
   "cell_type": "markdown",
   "id": "f7a68eef",
   "metadata": {},
   "source": [
    "## *another way of writing the program*"
   ]
  },
  {
   "cell_type": "code",
   "execution_count": 17,
   "id": "8ed4f635",
   "metadata": {},
   "outputs": [
    {
     "name": "stdout",
     "output_type": "stream",
     "text": [
      "first number is 1\n",
      "second number is 2\n",
      "the result of your operation is  3\n"
     ]
    }
   ],
   "source": [
    "def calculator(num1,num2):\n",
    "    oper=input('enter the orepator (+,-,*,/) :')\n",
    "    match oper: \n",
    "        case '+': return num1+num2\n",
    "        case '-': return num1-num2\n",
    "        case '*': return num1*num2\n",
    "        case '/': return num1/num2\n",
    "\n",
    "a=int(input('enter first number:'))\n",
    "b=int(input('enter second number:'))\n",
    "\n",
    "print(f'first number is {a}\\nsecond number is {b}\\nthe result of your operation is ',calculator(a,b))"
   ]
  },
  {
   "cell_type": "markdown",
   "id": "2afdf30a",
   "metadata": {},
   "source": [
    "*7.\tHandle cases where the user inputs invalid operators or tries to divide by zero.*"
   ]
  },
  {
   "cell_type": "code",
   "execution_count": 1,
   "id": "68140040",
   "metadata": {},
   "outputs": [
    {
     "name": "stdout",
     "output_type": "stream",
     "text": [
      "first number is 2\n",
      "second number is 4\n",
      "the result of your operation is  6\n"
     ]
    }
   ],
   "source": [
    "def calculator(num1,num2):\n",
    "    \n",
    "    oper_lst=['+','-','*','/']\n",
    "\n",
    "    oper=input('enter the orepator (+,-,*,/) :')\n",
    "\n",
    "    while oper not in oper_lst:\n",
    "        oper=input('operator unknown ! Please enter the orepator (+,-,*,/) :')\n",
    "\n",
    "    if oper=='/' and num2==0:\n",
    "        return False\n",
    "    \n",
    "    if oper == '+':\n",
    "        return num1+num2\n",
    "    if oper == '-':\n",
    "        return num1-num2\n",
    "    if oper == '*':\n",
    "        return num1*num2\n",
    "    if oper == '/':\n",
    "        return num1/num2\n",
    "\n",
    "a=int(input('enter first number:'))\n",
    "b=int(input('enter second number:'))\n",
    "\n",
    "result=calculator(a,b)\n",
    "\n",
    "while not(result):  \n",
    "    a=int(input(\"we can not divide on 0 !, please enter new first number\"))\n",
    "    b=int(input('please enter new second number:'))\n",
    "\n",
    "    result=calculator(a,b)\n",
    "\n",
    "\n",
    "print(f'first number is {a}\\nsecond number is {b}\\nthe result of your operation is ',result)"
   ]
  },
  {
   "cell_type": "markdown",
   "id": "60b0af47",
   "metadata": {},
   "source": [
    "### *other way of writing a program to cover the case mentioned in the 7th question*"
   ]
  },
  {
   "cell_type": "code",
   "execution_count": 4,
   "id": "ff1a45da",
   "metadata": {},
   "outputs": [
    {
     "name": "stdout",
     "output_type": "stream",
     "text": [
      "first number is 10\n",
      "second number is 2 : -\n",
      "\n",
      "the result of your operation is  8\n"
     ]
    }
   ],
   "source": [
    "def calculator(num1,num2):\n",
    "    \n",
    "    def check_div(x):\n",
    "        if x==0:\n",
    "            x=int(input(\"we can not divide on 0 ! please enter a new second number\"))\n",
    "            return check_div(x)\n",
    "        else :\n",
    "            return x\n",
    "\n",
    "    oper_lst=['+','-','*','/']\n",
    "    oper=input('enter the orepator (+,-,*,/) :')\n",
    "\n",
    "    while oper not in oper_lst:\n",
    "        oper=input('operator unknown ! Please enter the orepator (+,-,*,/) :')\n",
    "\n",
    "    if oper=='/':\n",
    "        num2=check_div(num2)\n",
    "    \n",
    "    if oper == '+':\n",
    "        print(f\"first number is {num1}\\nsecond number is {num2} : +\\n\")\n",
    "        return num1+num2\n",
    "    if oper == '-':\n",
    "        print(f\"first number is {num1}\\nsecond number is {num2} : -\\n\")\n",
    "        return num1-num2\n",
    "    if oper == '*':\n",
    "        print(f\"first number is {num1}\\nsecond number is {num2} : * \\n\")\n",
    "        return num1*num2\n",
    "    if oper == '/':\n",
    "        print(f\"first number is {num1}\\nsecond number is {num2} / \\n\")\n",
    "        return num1/num2\n",
    "    \n",
    "\n",
    "a=int(input('enter first number:'))\n",
    "b=int(input('enter second number:'))\n",
    "\n",
    "result=calculator(a,b)\n",
    "print(f'the result of your operation is ',result)"
   ]
  },
  {
   "cell_type": "markdown",
   "id": "afcd694f",
   "metadata": {},
   "source": [
    "*Note:*\n",
    "\n",
    "You may want to use a \"while\" loop to allow the user to roll the dice multiple times, or to add some messages to make the program more user-friendly."
   ]
  },
  {
   "cell_type": "code",
   "execution_count": 6,
   "id": "1f98403c",
   "metadata": {},
   "outputs": [
    {
     "name": "stdout",
     "output_type": "stream",
     "text": [
      "first number is 2\n",
      "second number is 6\n",
      "the result is  8\n"
     ]
    }
   ],
   "source": [
    "def calculator(num1,num2):\n",
    "    \n",
    "    oper_lst=['+','-','*','/']\n",
    "\n",
    "    oper=input('enter the orepator (+,-,*,/) :')\n",
    "\n",
    "    while oper not in oper_lst:\n",
    "        oper=input('operator unknown ! Please enter the orepator (+,-,*,/) :')\n",
    "\n",
    "    if oper=='/':\n",
    "        return False\n",
    "    \n",
    "    if oper == '+':\n",
    "        return num1+num2\n",
    "    if oper == '-':\n",
    "        return num1-num2\n",
    "    if oper == '*':\n",
    "        return num1*num2\n",
    "    if oper == '/':\n",
    "        return num1/num2\n",
    "\n",
    "from random import randint\n",
    "\n",
    "enter=input(\"would you like to run the dice (Y/N)\")\n",
    "\n",
    "while True :\n",
    "\n",
    "    if enter.lower()=='y':\n",
    "        a=randint(1,6)\n",
    "        print(f\"first number is {a}\")\n",
    "        b=randint(1,6)\n",
    "        print(f\"second number is {b}\")\n",
    "\n",
    "        result=calculator(a,b)\n",
    "        print('the result is ',result)\n",
    "    else :\n",
    "        break\n",
    "    enter=input(\"would you like to re run the dice (Y/N)\")"
   ]
  },
  {
   "cell_type": "markdown",
   "id": "1c21a357",
   "metadata": {},
   "source": [
    "### *another way of doing things*"
   ]
  },
  {
   "cell_type": "code",
   "execution_count": 5,
   "id": "f98a9760",
   "metadata": {},
   "outputs": [
    {
     "name": "stdout",
     "output_type": "stream",
     "text": [
      "first number is 3\n",
      "second number is 1\n",
      "the result is  2\n",
      "you have exited the program\n"
     ]
    }
   ],
   "source": [
    "def calculator(num1,num2):\n",
    "    \n",
    "    oper_lst=['+','-','*','/']\n",
    "\n",
    "    oper=input('enter the orepator (+,-,*,/) :')\n",
    "\n",
    "    while oper not in oper_lst:\n",
    "        oper=input('operator unknown ! Please enter the orepator (+,-,*,/) :')\n",
    "\n",
    "    if oper=='/':\n",
    "        return False\n",
    "    \n",
    "    if oper == '+':\n",
    "        return num1+num2\n",
    "    if oper == '-':\n",
    "        return num1-num2\n",
    "    if oper == '*':\n",
    "        return num1*num2\n",
    "    if oper == '/':\n",
    "        return num1/num2\n",
    "\n",
    "\n",
    "def dice_run(enter):\n",
    "    \n",
    "    if enter.lower()=='n':\n",
    "        return print(\"you have exited the program\")\n",
    "\n",
    "    from random import randint\n",
    "      \n",
    "    if enter.lower()=='y':\n",
    "        a=randint(1,6)\n",
    "        print(f\"first number is {a}\")\n",
    "\n",
    "        b=randint(1,6)\n",
    "        print(f\"second number is {b}\")\n",
    "        \n",
    "        result=calculator(a,b)\n",
    "        print('the result is ',result)\n",
    "    \n",
    "    enter=input(\"would you like to re run the dice (Y/N)\")\n",
    "    return dice_run(enter)\n",
    "\n",
    "\n",
    "user_app=input(\"would you like to run the dice (Y/N)\")\n",
    "\n",
    "dice_run(user_app)"
   ]
  }
 ],
 "metadata": {
  "kernelspec": {
   "display_name": "Python 3",
   "language": "python",
   "name": "python3"
  },
  "language_info": {
   "codemirror_mode": {
    "name": "ipython",
    "version": 3
   },
   "file_extension": ".py",
   "mimetype": "text/x-python",
   "name": "python",
   "nbconvert_exporter": "python",
   "pygments_lexer": "ipython3",
   "version": "3.13.7"
  }
 },
 "nbformat": 4,
 "nbformat_minor": 5
}
